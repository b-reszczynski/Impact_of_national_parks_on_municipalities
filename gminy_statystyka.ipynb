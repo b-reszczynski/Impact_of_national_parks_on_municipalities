{
  "nbformat": 4,
  "nbformat_minor": 0,
  "metadata": {
    "colab": {
      "name": "gminy_statystyka.ipynb",
      "provenance": []
    },
    "kernelspec": {
      "name": "python3",
      "display_name": "Python 3"
    },
    "language_info": {
      "name": "python"
    }
  },
  "cells": [
    {
      "cell_type": "code",
      "execution_count": 1,
      "metadata": {
        "id": "wCyHjdTVj3m-"
      },
      "outputs": [],
      "source": [
        "import numpy as np\n",
        "import pandas as pd\n",
        "from scipy import stats\n",
        "import matplotlib.pyplot as plt\n",
        "from IPython.core.display import display, HTML"
      ]
    },
    {
      "cell_type": "code",
      "source": [
        "gminy_income = pd.read_csv(\"gminy_income.csv\")\n",
        "gminy_tourist = pd.read_csv(\"gminy_tourist.csv\")"
      ],
      "metadata": {
        "id": "OO0vy1BemCJi"
      },
      "execution_count": 2,
      "outputs": []
    },
    {
      "cell_type": "code",
      "source": [
        "display(HTML('<h1>Gminy- dochód per capita</h1>'))\n",
        "\n",
        "counts, bins = np.histogram(gminy_income[\"income\"]);\n",
        "plt.hist(bins[:-1], bins, weights=counts);\n",
        "plt.title(\"Rozkład dochodów per capita\", fontdict=None, loc='center', pad=None)\n",
        "plt.xlabel(\"dochód per capita [zł]\")\n",
        "plt.ylabel(\"ilośc gmin\")\n",
        "plt.show()\n",
        "\n",
        "counts, bins = np.histogram(gminy_income[\"is_park\"]);\n",
        "n,bin,bar = plt.hist(bins[:-1],  bins=[-.5,.5,1.5], weights=counts);\n",
        "bar[0].set_fc(\"darkred\")\n",
        "bar[1].set_fc(\"forestgreen\")\n",
        "plt.title(\"Gminy\\n0: bez parku\\n1: z parkiem\", fontdict=None, loc='center', pad=None)\n",
        "plt.ylabel(\"ilośc gmin\")\n",
        "plt.show()\n",
        "\n",
        "corr,p_val = stats.pointbiserialr(gminy_income[\"is_park\"].values, gminy_income[\"income\"].values)\n",
        "display(HTML(\"<h1>\" + \"Korelacja: \" + str(round(corr,3)) + \"</h1>\"))\n",
        "display(HTML(\"<h1>\" + \"P-value: \" + str(round(p_val,3)) + \"</h1>\"))"
      ],
      "metadata": {
        "colab": {
          "base_uri": "https://localhost:8080/",
          "height": 758
        },
        "id": "lY9q40TymDiY",
        "outputId": "075ebf4a-732c-4e98-d8d9-3cd33a6eb8e5"
      },
      "execution_count": 3,
      "outputs": [
        {
          "output_type": "display_data",
          "data": {
            "text/html": [
              "<h1>Gminy- dochód per capita</h1>"
            ],
            "text/plain": [
              "<IPython.core.display.HTML object>"
            ]
          },
          "metadata": {}
        },
        {
          "output_type": "display_data",
          "data": {
            "image/png": "[encoded data removed]",
            "text/plain": [
              "<Figure size 432x288 with 1 Axes>"
            ]
          },
          "metadata": {
            "needs_background": "light"
          }
        },
        {
          "output_type": "display_data",
          "data": {
            "image/png": "[encoded data removed]",
            "text/plain": [
              "<Figure size 432x288 with 1 Axes>"
            ]
          },
          "metadata": {
            "needs_background": "light"
          }
        },
        {
          "output_type": "display_data",
          "data": {
            "text/html": [
              "<h1>Korelacja: 0.157</h1>"
            ],
            "text/plain": [
              "<IPython.core.display.HTML object>"
            ]
          },
          "metadata": {}
        },
        {
          "output_type": "display_data",
          "data": {
            "text/html": [
              "<h1>P-value: 0.276</h1>"
            ],
            "text/plain": [
              "<IPython.core.display.HTML object>"
            ]
          },
          "metadata": {}
        }
      ]
    },
    {
      "cell_type": "code",
      "source": [
        "gminy_tourist = gminy_tourist[gminy_tourist.income_tourists <= 3*gminy_tourist.income_tourists.values.std()]\n",
        "\n",
        "display(HTML('<h1>Gminy- dochód per capita z turystów zagranicznych</h1>'))\n",
        "counts, bins = np.histogram(gminy_tourist[\"income_tourists\"]);\n",
        "plt.hist(bins[:-1], bins, weights=counts);\n",
        "plt.title(\"Rozkład dochodów per capita\", fontdict=None, loc='center', pad=None)\n",
        "plt.xlabel(\"dochód per capita [zł]\")\n",
        "plt.ylabel(\"ilośc gmin\")\n",
        "plt.show()\n",
        "\n",
        "counts, bins = np.histogram(gminy_tourist[\"is_park\"]);\n",
        "n,bin,bar = plt.hist(bins[:-1],  bins=[-.5,.5,1.5], weights=counts);\n",
        "bar[0].set_fc(\"darkred\")\n",
        "bar[1].set_fc(\"forestgreen\")\n",
        "plt.title(\"Gminy\\n0: bez parku\\n1: z parkiem\", fontdict=None, loc='center', pad=None)\n",
        "plt.ylabel(\"ilośc gmin\")\n",
        "plt.show()\n",
        "\n",
        "corr,p_val = stats.pointbiserialr(gminy_tourist[\"is_park\"].values, gminy_tourist[\"income_tourists\"].values)\n",
        "display(HTML(\"<h1>\" + \"Korelacja: \" + str(round(corr,3)) + \"</h1>\"))\n",
        "display(HTML(\"<h1>\" + \"P-value: \" + str(round(p_val,3)) + \"</h1>\"))"
      ],
      "metadata": {
        "colab": {
          "base_uri": "https://localhost:8080/",
          "height": 758
        },
        "id": "gkqXmWFg0SZQ",
        "outputId": "054cf2fd-2d4c-4a55-dd66-56d486d9d083"
      },
      "execution_count": 4,
      "outputs": [
        {
          "output_type": "display_data",
          "data": {
            "text/html": [
              "<h1>Gminy- dochód per capita z turystów zagranicznych</h1>"
            ],
            "text/plain": [
              "<IPython.core.display.HTML object>"
            ]
          },
          "metadata": {}
        },
        {
          "output_type": "display_data",
          "data": {
            "image/png": "[encoded data removed]",
            "text/plain": [
              "<Figure size 432x288 with 1 Axes>"
            ]
          },
          "metadata": {
            "needs_background": "light"
          }
        },
        {
          "output_type": "display_data",
          "data": {
            "image/png": "[encoded data removed]",
            "text/plain": [
              "<Figure size 432x288 with 1 Axes>"
            ]
          },
          "metadata": {
            "needs_background": "light"
          }
        },
        {
          "output_type": "display_data",
          "data": {
            "text/html": [
              "<h1>Korelacja: 0.151</h1>"
            ],
            "text/plain": [
              "<IPython.core.display.HTML object>"
            ]
          },
          "metadata": {}
        },
        {
          "output_type": "display_data",
          "data": {
            "text/html": [
              "<h1>P-value: 0.341</h1>"
            ],
            "text/plain": [
              "<IPython.core.display.HTML object>"
            ]
          },
          "metadata": {}
        }
      ]
    }
  ]
}